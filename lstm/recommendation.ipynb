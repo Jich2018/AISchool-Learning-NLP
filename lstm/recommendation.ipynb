{
 "metadata": {
  "language_info": {
   "codemirror_mode": {
    "name": "ipython",
    "version": 3
   },
   "file_extension": ".py",
   "mimetype": "text/x-python",
   "name": "python",
   "nbconvert_exporter": "python",
   "pygments_lexer": "ipython3",
   "version": "3.7.6-final"
  },
  "orig_nbformat": 2,
  "kernelspec": {
   "name": "python3",
   "display_name": "Python 3.7.6 64-bit",
   "metadata": {
    "interpreter": {
     "hash": "2cf3fdb4b3807e391aeec544f52631bed41a9fbd637de42646e942e592730b80"
    }
   }
  }
 },
 "nbformat": 4,
 "nbformat_minor": 2,
 "cells": [
  {
   "cell_type": "code",
   "execution_count": 1,
   "metadata": {},
   "outputs": [
    {
     "output_type": "stream",
     "name": "stdout",
     "text": [
      "reviews count: 3408356\n[{'reviewerID': 'A2M1CU2IRZG0K9', 'asin': '0005089549', 'sentiment': 1}, {'reviewerID': 'AFTUJYISOFHY6', 'asin': '0005089549', 'sentiment': 1}, {'reviewerID': 'A3JVF9Y53BEOGC', 'asin': '000503860X', 'sentiment': 1}, {'reviewerID': 'A12VPEOEZS1KTC', 'asin': '000503860X', 'sentiment': 1}, {'reviewerID': 'ATLZNVLYKP9AZ', 'asin': '000503860X', 'sentiment': 1}]\n"
     ]
    }
   ],
   "source": [
    "import json\n",
    "\n",
    "\n",
    "reviews = []\n",
    "keys = ['reviewerID', 'asin', 'sentiment']\n",
    "with open(\"amazon.json\") as f:\n",
    "    lines = f.readlines()\n",
    "    for line in lines:\n",
    "        try:\n",
    "            review = json.loads(line)\n",
    "            review = {x:review[x] for x in keys}\n",
    "            reviews.append(review)\n",
    "        except KeyError:\n",
    "            continue\n",
    "\n",
    "print(\"reviews count: {}\".format(len(reviews)))\n",
    "print(reviews[:5])"
   ]
  },
  {
   "cell_type": "code",
   "execution_count": 2,
   "metadata": {},
   "outputs": [
    {
     "output_type": "stream",
     "name": "stdout",
     "text": [
      "             reviewerID        asin  sentiment\n0        A2M1CU2IRZG0K9  0005089549          1\n1         AFTUJYISOFHY6  0005089549          1\n2        A3JVF9Y53BEOGC  000503860X          1\n3        A12VPEOEZS1KTC  000503860X          1\n4         ATLZNVLYKP9AZ  000503860X          1\n...                 ...         ...        ...\n3408351  A2MFARH7H7FSY1  B01HJ1INB0          0\n3408352   AY532XZ00UTKN  B01HJ1INB0          1\n3408353  A2VWQXWF1GO2ZE  B01HJ1INB0          0\n3408354  A22AB77OD50U4M  B01HJ1INB0          1\n3408355   ATGEMV4Z0GPOH  B01HJ1INB0          1\n\n[3408356 rows x 3 columns]\n"
     ]
    }
   ],
   "source": [
    "import pandas as pd\n",
    "\n",
    "\n",
    "df = pd.DataFrame(reviews)\n",
    "print(df)"
   ]
  },
  {
   "cell_type": "code",
   "execution_count": 3,
   "metadata": {},
   "outputs": [],
   "source": [
    "import json\n",
    "\n",
    "\n",
    "grouped = df.groupby('reviewerID')\n",
    "\n",
    "with open(\"reviewers.json\", 'w') as f:\n",
    "    for name, group in grouped:\n",
    "        pos = []\n",
    "        neg = []\n",
    "\n",
    "        for _, row in group.iterrows():\n",
    "            if row['sentiment'] == 1:\n",
    "                pos.append(row['asin'])\n",
    "            else:\n",
    "                neg.append(row['asin'])\n",
    "\n",
    "        d = {'reviewerID': name, 'pos': pos, 'neg': neg}\n",
    "        s = json.dumps(d)+\"\\n\"\n",
    "        f.write(s)"
   ]
  },
  {
   "cell_type": "code",
   "execution_count": 4,
   "metadata": {},
   "outputs": [],
   "source": [
    "grouped = df.groupby('asin')\n",
    "\n",
    "with open(\"asin.json\", 'w') as f:\n",
    "    for name, group in grouped:\n",
    "        pos = []\n",
    "        neg = []\n",
    "\n",
    "        for _, row in group.iterrows():\n",
    "            if row['sentiment'] == 1:\n",
    "                pos.append(row['reviewerID'])\n",
    "            else:\n",
    "                neg.append(row['reviewerID'])\n",
    "\n",
    "        d = {'asin': name, 'pos': pos, 'neg': neg}\n",
    "        s = json.dumps(d)+\"\\n\"\n",
    "        f.write(s)"
   ]
  }
 ]
}