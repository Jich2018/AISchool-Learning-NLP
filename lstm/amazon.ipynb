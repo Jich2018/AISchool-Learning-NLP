{
 "metadata": {
  "language_info": {
   "codemirror_mode": {
    "name": "ipython",
    "version": 3
   },
   "file_extension": ".py",
   "mimetype": "text/x-python",
   "name": "python",
   "nbconvert_exporter": "python",
   "pygments_lexer": "ipython3",
   "version": "3.7.6-final"
  },
  "orig_nbformat": 2,
  "kernelspec": {
   "name": "Python 3.7.6 64-bit",
   "display_name": "Python 3.7.6 64-bit",
   "metadata": {
    "interpreter": {
     "hash": "2cf3fdb4b3807e391aeec544f52631bed41a9fbd637de42646e942e592730b80"
    }
   }
  }
 },
 "nbformat": 4,
 "nbformat_minor": 2,
 "cells": [
  {
   "cell_type": "code",
   "execution_count": 1,
   "metadata": {},
   "outputs": [
    {
     "output_type": "stream",
     "name": "stdout",
     "text": [
      "original reviews count: 3410019\n",
      "useful reviews count: 3408356\n",
      "[{'reviewerID': 'A2M1CU2IRZG0K9', 'reviewerName': 'Terri', 'asin': '0005089549', 'reviewText': \"So sorry I didn't purchase this years ago when it first came out!!  This is very good and entertaining!  We absolutely loved it and anticipate seeing it repeatedly.  We actually wore out the cassette years back, so we also purchased this same product on cd.  Best purchase we made out of all!  Would purchase on dvd if we could find one.\", 'overall': 5.0}, {'reviewerID': 'AFTUJYISOFHY6', 'reviewerName': 'Melissa D. Abercrombie', 'asin': '0005089549', 'reviewText': 'Believe me when I tell you that you will receive a blessing watching this video of the Cathedral Quartet.  They bring back most of the singers that were ever in their group and it is a really great VHS.', 'overall': 5.0}, {'reviewerID': 'A3JVF9Y53BEOGC', 'reviewerName': 'Anthony Thompson', 'asin': '000503860X', 'reviewText': \"I have seen X live many times, both in the early days and their more recent reunion shows. Trust me when I say this: they never disappoint as a live band! This DVD document of a show on their home turf of LA is a dream come true. Can't wait.\", 'overall': 5.0}, {'reviewerID': 'A12VPEOEZS1KTC', 'reviewerName': 'JadeRain', 'asin': '000503860X', 'reviewText': 'I was so excited for this!  Finally, a live concert video from X!  I\\'ve seen them twice, both times with Tony G. on guitar (he was superb by the way).  But we all know you HAVE to have Billy Zoom in the band. I haven\\'t been able to see them, but this DVD will do the trick.  This DVD is AMAZING!! One listen/viewing makes me instantly forget all the \"power pop\" \"punk\" bands that are around now.  Their sound is fantastic, full, fast, heavy, thrilling!  All the members sound excellent, period.  I\\'m hopeful that there will be a tour, come on X!  Us old fogeys would like to see you old fogeys play your beautiful music for us!! UPDATE:  I\\'ve been so lucky to catch X a couple of times with Billy on guitar since I wrote this, it was just incredible seeing them, this DVD does give an accurate view of what it is like to have X RIPPING it up in concert!  cheers.', 'overall': 5.0}, {'reviewerID': 'ATLZNVLYKP9AZ', 'reviewerName': 'T. Fisher', 'asin': '000503860X', 'reviewText': 'X is one of the best punk bands ever. I don\\'t even like calling them a punk band, but that\\'s what they call themselves so I guess it\\'s OK. This is musically complex punk with a lot of influences and a lot of tight playing and gripping tunes.\\n\\nThis is an awesome concert. The only two problems are that 1) it is just 67 minutes long and 2) John Doe\\'s bass is buried too deep in the mix.\\n\\nEvery X fan should get this. More importantly, anyone who doesn\\'t know about X should get this.\\n\\nWhy X? Did you know, for example, that:\\n- X has a different sound based on the unique harmonies between co-lead singers Exene Cervenka and John Doe that really sets them apart from anything else out there?\\n- Doe, Cervenka and drummer DJ Bonebrake also play in the country punk band The Knitters?\\n- Billy Zoom, the guitarist who originally formed the band, used to play rockabilly guitar for Gene Vincent and other big stars, and has been voted one of the greatest guitar players ever by Guitar Player magazine?\\n- X were playing Leadbelly tunes way before Kurt Cobain?\\n- Ray Manzarek, keyboard player of The Doors, produced X\\'s first four albums? This is one of the big reasons why the band covered and generally closed its concerts with \"Soul Kitchen\" from the album&nbsp;<a data-hook=\"product-link-linked\" class=\"a-link-normal\" href=\"/The-Doors/dp/B000MCIBE8/ref=cm_cr_arp_d_rvw_txt?ie=UTF8\">The Doors</a>\\n- Cervenka and Doe used to be married, before Exene later married Viggo Mortensen -- Aragorn from the Lord of the Rings movies?\\n- Billy Zoom left the band from the mid-1980s to the mid-1990s, but during this time the band still managed to record&nbsp;<a data-hook=\"product-link-linked\" class=\"a-link-normal\" href=\"/X-Live-at-the-Whisky-a-Go-Go/dp/B000005IRW/ref=cm_cr_arp_d_rvw_txt?ie=UTF8\">X Live at the Whisky a Go-Go</a>, one of the greatest live rock albums ever, with guitarist Tony Gilkyson?\\n\\nAs this DVD proves, X is still as good as ever. Billy Zoom still plays standing in his trademark splayed-leg stance with a broad grin on his face. Did I say he is awesome? Awesome.\\n\\nI waited way too long before getting this one, thinking I could do without an X DVD. And I could have. But why should I? This really is worth it, and I\\'m sure I\\'ll be putting this one in the player more often than a lot of my other music DVDs. Really, really good.', 'overall': 5.0}]\n"
     ]
    }
   ],
   "source": [
    "import json\n",
    "\n",
    "\n",
    "reviews = []\n",
    "keys = ['reviewerID', 'reviewerName', 'asin', 'reviewText', 'overall']\n",
    "with open(\"data/Movies_and_TV_5.json\") as f:\n",
    "    lines = f.readlines()\n",
    "    print(\"original reviews count: {}\".format(len(lines)))\n",
    "    for line in lines:\n",
    "        try:\n",
    "            review = json.loads(line)\n",
    "            review = {x:review[x] for x in keys}\n",
    "            reviews.append(review)\n",
    "        except KeyError:\n",
    "            continue\n",
    "\n",
    "print(\"useful reviews count: {}\".format(len(reviews)))\n",
    "print(reviews[:5])"
   ]
  },
  {
   "cell_type": "code",
   "execution_count": 2,
   "metadata": {},
   "outputs": [
    {
     "output_type": "stream",
     "name": "stdout",
     "text": [
      "             reviewerID            reviewerName        asin  \\\n0        A2M1CU2IRZG0K9                   Terri  0005089549   \n1         AFTUJYISOFHY6  Melissa D. Abercrombie  0005089549   \n2        A3JVF9Y53BEOGC        Anthony Thompson  000503860X   \n3        A12VPEOEZS1KTC                JadeRain  000503860X   \n4         ATLZNVLYKP9AZ               T. Fisher  000503860X   \n...                 ...                     ...         ...   \n3408351  A2MFARH7H7FSY1             Ali A. Diba  B01HJ1INB0   \n3408352   AY532XZ00UTKN         Amazon Customer  B01HJ1INB0   \n3408353  A2VWQXWF1GO2ZE              Noam Eitan  B01HJ1INB0   \n3408354  A22AB77OD50U4M         Amazon Customer  B01HJ1INB0   \n3408355   ATGEMV4Z0GPOH                   Peter  B01HJ1INB0   \n\n                                                reviewText  overall  \n0        So sorry I didn't purchase this years ago when...      5.0  \n1        Believe me when I tell you that you will recei...      5.0  \n2        I have seen X live many times, both in the ear...      5.0  \n3        I was so excited for this!  Finally, a live co...      5.0  \n4        X is one of the best punk bands ever. I don't ...      5.0  \n...                                                    ...      ...  \n3408351  The singing parts are very good as expected fr...      4.0  \n3408352  This recording of the 2015 production by the M...      5.0  \n3408353  I do not wish to write a review about this rel...      4.0  \n3408354                                     It was a gift.      5.0  \n3408355  This Otello originates from the Salzburg Festi...      4.0  \n\n[3408356 rows x 5 columns]\n"
     ]
    }
   ],
   "source": [
    "import pandas as pd\n",
    "\n",
    "\n",
    "df = pd.DataFrame(reviews)\n",
    "print(df)"
   ]
  },
  {
   "cell_type": "code",
   "execution_count": 10,
   "metadata": {},
   "outputs": [
    {
     "output_type": "stream",
     "name": "stdout",
     "text": [
      "reviewerID unique count: 297483\n",
      "reviewerName unique count: 234659\n",
      "asin unique count: 60175\n",
      "reviews per reviewerID: 11.457313527159535\n",
      "reviews per asin: 56.640731200664725\n",
      "             reviewerID         reviewerName        asin  \\\n",
      "8        A3139J3877Y61F     SingingButterfly  0005419263   \n",
      "16       A38KRRY00H5TEY                Trish  0005092663   \n",
      "26       A17TPT3FWAE5T1        Matthew Spady  0005019281   \n",
      "39       A101IGU6UDKW3X             DorothyZ  0005019281   \n",
      "45       A340KTL9KUGYB7        Mike Donnelly  0005019281   \n",
      "...                 ...                  ...         ...   \n",
      "3408305   A2K3ZJWLF0V4K                  Rae  B01HH2QNY0   \n",
      "3408307  A1MMM9GD3YUFSN         Kelly Starks  B01HH2QNY0   \n",
      "3408312  A1TO2Q0I8LNSAR  KC from the Midwest  B01HH20HHE   \n",
      "3408314  A1OIBTGGI47NCO                   SD  B01HH7KC60   \n",
      "3408339  A1BTBXPOUHQA9H          christina88  B01HIQ3TO2   \n",
      "\n",
      "                                                reviewText  overall  \n",
      "8                  Good songs. The DVD is a little boring.      3.0  \n",
      "16       While there was a lot of information in this p...      2.0  \n",
      "26       If you already have (and love) the Alistair Si...      3.0  \n",
      "39       Well made Christmas movie. It's a little slow ...      3.0  \n",
      "45                                                      OK      3.0  \n",
      "...                                                    ...      ...  \n",
      "3408305  Spoiler alert here, sort of.\\n\\nBasically, eve...      2.0  \n",
      "3408307  season 1 was quite strong and I rated it a str...      2.0  \n",
      "3408312                       Sorry - didn't like this one      2.0  \n",
      "3408314  The video is okay, doesnt skip at all, good qu...      3.0  \n",
      "3408339  Love anything Barbie. But this wasn't a favori...      3.0  \n",
      "\n",
      "[715147 rows x 5 columns]\n"
     ]
    }
   ],
   "source": [
    "reviewer_id_count = df['reviewerID'].nunique()\n",
    "print(\"reviewerID unique count: {}\".format(reviewer_id_count))\n",
    "reviewer_name_count = df['reviewerName'].nunique()\n",
    "print(\"reviewerName unique count: {}\".format(reviewer_name_count))\n",
    "asin_count = df['asin'].nunique()\n",
    "print(\"asin unique count: {}\".format(asin_count))\n",
    "review_per_reviewer = float(df.shape[0])/reviewer_id_count\n",
    "print(\"reviews per reviewerID: {}\".format(review_per_reviewer))\n",
    "review_per_asin = float(df.shape[0])/asin_count\n",
    "print(\"reviews per asin: {}\".format(review_per_asin))\n",
    "\n",
    "neg_reviews = df.loc[df['overall'] <= 3.0]\n",
    "print(neg_reviews)"
   ]
  },
  {
   "cell_type": "code",
   "execution_count": 5,
   "metadata": {},
   "outputs": [
    {
     "output_type": "stream",
     "name": "stdout",
     "text": [
      "[769, 855, 4331, 151, 575, 366, 45, 49, 432, 412]\n",
      "(3408356,)\n",
      "[1 1 1 ... 1 1 1]\n"
     ]
    }
   ],
   "source": [
    "# the parameter below should be the same with imdb_lstm.ipynb\n",
    "import numpy as np\n",
    "\n",
    "n_vocab = 5000\n",
    "max_review_length = 200\n",
    "\n",
    "with open(\"data/aclimdb/imdb.vocab\", 'r') as f:\n",
    "    vocab = f.read().splitlines()[:n_vocab]\n",
    "\n",
    "vocab_to_int = {word:i+1 for i, word in enumerate(vocab)}\n",
    "int_to_vocab = {i:word for word, i in vocab_to_int.items()}\n",
    "\n",
    "def get_encode(word):\n",
    "    if word in vocab_to_int:\n",
    "        return vocab_to_int[word]\n",
    "    else:\n",
    "        return np.nan\n",
    "\n",
    "encoded_x = [[get_encode(word)  for word in review] for review in preprocessed_x]\n",
    "encoded_x = [[word for word in review if (not np.isnan(word))][:max_review_length] for review in encoded_x]\n",
    "print(encoded_x[0][:10])\n",
    "\n",
    "def pad_text(encoded_reviews, seq_length):\n",
    "    reviews = []\n",
    "    for review in encoded_reviews:\n",
    "        if len(review) >= seq_length:\n",
    "            reviews.append(review[:seq_length])\n",
    "        else:\n",
    "            reviews.append([0]*(seq_length-len(review)) + review)\n",
    "    return np.array(reviews)\n",
    "\n",
    "\n",
    "padded_x = pad_text(encoded_x, max_review_length)\n",
    "\n",
    "y = np.where(df['overall']>3.8, 1, 0)\n",
    "print(y.shape)\n",
    "print(y)\n",
    "\n",
    "from torch.utils.data import TensorDataset, DataLoader\n",
    "from torch import IntTensor\n",
    "import torch\n",
    "\n",
    "\n",
    "batch_size = 1\n",
    "\n",
    "data = TensorDataset(torch.tensor(padded_x, dtype=torch.int64), torch.tensor(y, dtype=torch.float32))\n",
    "loader = DataLoader(data, batch_size=batch_size, shuffle=False)"
   ]
  },
  {
   "cell_type": "code",
   "execution_count": 6,
   "metadata": {},
   "outputs": [],
   "source": [
    "# the model should be the same as imdb_lstm.ipynb\n",
    "from torch import nn\n",
    "\n",
    "n_embedding = 200 # embedding vector size\n",
    "n_hidden = 200\n",
    "n_layers = 1\n",
    "n_output = 1\n",
    "\n",
    "p_drop = 0.5\n",
    "\n",
    "class SentimentLstm(nn.Module):\n",
    "    def __init__(self):\n",
    "        super().__init__()\n",
    "\n",
    "        self.embedding = nn.Embedding(n_vocab+1, n_embedding)\n",
    "        self.lstm = nn.LSTM(n_embedding, n_hidden, n_layers, batch_first=True, dropout=p_drop)\n",
    "        self.dropout = nn.Dropout(p_drop)\n",
    "        #self.lstm = nn.LSTM(n_embedding, n_hidden, n_layers, batch_first=True)\n",
    "        self.fc = nn.Linear(n_hidden, n_output)\n",
    "        self.sigmoid = nn.Sigmoid()\n",
    "\n",
    "    def forward(self, inputs):\n",
    "        embedded = self.embedding(inputs)\n",
    "        outputs, hiddens = self.lstm(embedded)\n",
    "        outputs = self.dropout(outputs)\n",
    "        outputs = outputs.contiguous().view(-1, n_hidden)\n",
    "        outputs = self.fc(outputs)\n",
    "        outputs = self.sigmoid(outputs)\n",
    "        outputs = outputs.view(batch_size, -1)\n",
    "        outputs = outputs[:, -1]\n",
    "\n",
    "        return outputs, hiddens\n"
   ]
  },
  {
   "cell_type": "code",
   "execution_count": 8,
   "metadata": {},
   "outputs": [
    {
     "output_type": "stream",
     "name": "stdout",
     "text": [
      "Loss: 0.8927\nAccuracy: 0.80\n"
     ]
    }
   ],
   "source": [
    "import torch\n",
    "import numpy as np\n",
    "\n",
    "device = 'cuda' if torch.cuda.is_available() else 'cpu'\n",
    "criterion = nn.BCELoss()\n",
    "\n",
    "\n",
    "model = torch.load(\"lstm.model\")\n",
    "model.eval()\n",
    "\n",
    "losses = []\n",
    "num_correct = 0\n",
    "index = 0\n",
    "\n",
    "with open(\"amazon.json\", 'w') as f:\n",
    "    for inputs, labels in loader:\n",
    "        inputs, labels = inputs.to(device), labels.to(device)\n",
    "        output, _ = model(inputs)\n",
    "        loss = criterion(output.squeeze(), labels.float())\n",
    "        losses.append(loss.item())\n",
    "        \n",
    "        preds = torch.round(output.squeeze())\n",
    "        correct_tensor = preds.eq(labels.float().view_as(preds))\n",
    "        correct = np.squeeze(correct_tensor.numpy())\n",
    "        num_correct += np.sum(correct)\n",
    "\n",
    "        for i in range(batch_size):\n",
    "            if batch_size == 1:\n",
    "                sentiment = preds.int().item()\n",
    "            else:\n",
    "                sentiment = preds[i].int().item()\n",
    "            row = df.iloc[index]\n",
    "            d = {'reviewerID': row['reviewerID'], 'reviewerName': row['reviewerName'], 'asin': row['asin'], 'reviewText': row['reviewText'], 'overall': row['overall'], 'sentiment': sentiment}\n",
    "            s = json.dumps(d)+\"\\n\"\n",
    "            f.write(s)\n",
    "            index += 1\n",
    "\n",
    "    \n",
    "print(\"Loss: {:.4f}\".format(np.mean(losses)))\n",
    "print(\"Accuracy: {:.2f}\".format(num_correct/len(loader.dataset)))"
   ]
  },
  {
   "cell_type": "code",
   "execution_count": null,
   "metadata": {},
   "outputs": [],
   "source": []
  }
 ]
}